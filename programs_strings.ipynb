{
 "cells": [
  {
   "cell_type": "code",
   "execution_count": 8,
   "metadata": {},
   "outputs": [
    {
     "name": "stdout",
     "output_type": "stream",
     "text": [
      "Enter a string:malyaylam is a language\n",
      "malyaylam -is a palindrome\n",
      "is -NOT PALINDROME\n",
      "a -is a palindrome\n",
      "language -NOT PALINDROME\n"
     ]
    }
   ],
   "source": [
    "#Write a program to display all the palindrome words appearing in an input text.\n",
    "\n",
    "s=input(\"Enter a string:\")\n",
    "for word in s.split(' '):\n",
    "    if word==word[::-1]:\n",
    "        print(word, '-is a palindrome')\n",
    "    else:\n",
    "        print(word,'-NOT PALINDROME')"
   ]
  },
  {
   "cell_type": "code",
   "execution_count": 10,
   "metadata": {},
   "outputs": [
    {
     "name": "stdout",
     "output_type": "stream",
     "text": [
      "Enter a string:g\n",
      "Extracted string is: g\n"
     ]
    }
   ],
   "source": [
    "'''Write a Python function to get a string made of the first 2 and the last 2 chars from a\n",
    "given string. If the string length is less than 2, return same string, otherwise return\n",
    "new string created.'''\n",
    "\n",
    "def substring(s):\n",
    "    if len(s)<2:\n",
    "        return s\n",
    "    else:\n",
    "        sub=s[:2]+s[-2:]\n",
    "    return sub\n",
    "\n",
    "s=input(\"Enter a string:\")\n",
    "s1=substring(s)\n",
    "print(\"Extracted string is:\",s1)\n"
   ]
  },
  {
   "cell_type": "code",
   "execution_count": 1,
   "metadata": {},
   "outputs": [
    {
     "name": "stdout",
     "output_type": "stream",
     "text": [
      "Enter a string:hello how are you?\n",
      "String without space: hellohowareyou?\n"
     ]
    }
   ],
   "source": [
    "'''Consider a string s=“Hello how are you?”. Write a program to display this string\n",
    "without spaces.  '''\n",
    "\n",
    "s=input(\"Enter a string:\")\n",
    "s1=s.replace(' ', '')\n",
    "print(\"String without space:\",s1)\n"
   ]
  },
  {
   "cell_type": "code",
   "execution_count": 2,
   "metadata": {},
   "outputs": [
    {
     "name": "stdout",
     "output_type": "stream",
     "text": [
      "Enter a string:helloworld\n",
      "String with odd indexed characters removed: hlool\n"
     ]
    }
   ],
   "source": [
    "'''Write a Python program to remove the characters which have odd index values of a\n",
    "given string. '''\n",
    "\n",
    "s=input(\"Enter a string:\")\n",
    "s1=s[::2]\n",
    "print(\"String with odd indexed characters removed:\",s1)\n"
   ]
  },
  {
   "cell_type": "code",
   "execution_count": 3,
   "metadata": {},
   "outputs": [
    {
     "name": "stdout",
     "output_type": "stream",
     "text": [
      "Enter a string:hello world\n",
      "String first and last characters swapped: dello worlh\n"
     ]
    }
   ],
   "source": [
    "'''Write a Python program to change a given string to a new string where the first and\n",
    "last chars have been exchanged.\n",
    "'''\n",
    "\n",
    "s=input(\"Enter a string:\")\n",
    "s1=s[-1]+s[1:-1]+s[0]\n",
    "print(\"String first and last characters swapped:\",s1)"
   ]
  },
  {
   "cell_type": "code",
   "execution_count": null,
   "metadata": {},
   "outputs": [],
   "source": []
  }
 ],
 "metadata": {
  "kernelspec": {
   "display_name": "Python 3",
   "language": "python",
   "name": "python3"
  },
  "language_info": {
   "codemirror_mode": {
    "name": "ipython",
    "version": 3
   },
   "file_extension": ".py",
   "mimetype": "text/x-python",
   "name": "python",
   "nbconvert_exporter": "python",
   "pygments_lexer": "ipython3",
   "version": "3.7.3"
  }
 },
 "nbformat": 4,
 "nbformat_minor": 2
}
