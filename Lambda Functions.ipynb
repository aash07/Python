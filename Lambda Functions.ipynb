{
 "cells": [
  {
   "cell_type": "code",
   "execution_count": 3,
   "metadata": {},
   "outputs": [
    {
     "name": "stdout",
     "output_type": "stream",
     "text": [
      "15\n"
     ]
    }
   ],
   "source": [
    "# Simple example of lambda function\n",
    "\n",
    "x =lambda a:a+10\n",
    "print(x(5))"
   ]
  },
  {
   "cell_type": "code",
   "execution_count": 4,
   "metadata": {},
   "outputs": [
    {
     "name": "stdout",
     "output_type": "stream",
     "text": [
      "200\n",
      "20\n",
      "-8\n"
     ]
    }
   ],
   "source": [
    "# lambda function with two arguments\n",
    "\n",
    "x= lambda a,b: a*b\n",
    "print(x(10,20))\n",
    "print(x(4,5))\n",
    "print(x(2,-4))"
   ]
  },
  {
   "cell_type": "code",
   "execution_count": 11,
   "metadata": {},
   "outputs": [
    {
     "name": "stdout",
     "output_type": "stream",
     "text": [
      "22\n",
      "33\n"
     ]
    }
   ],
   "source": [
    "def myfunc(n):\n",
    "    return lambda a: a*n\n",
    "\n",
    "mydoubler = myfunc(2)   # myfunc() returns lambda function statement\n",
    "mytripler = myfunc(3)\n",
    "\n",
    "print(mydoubler(11))   # argument a in lambda function takes 11 now\n",
    "print(mytripler(11))\n"
   ]
  },
  {
   "cell_type": "code",
   "execution_count": 12,
   "metadata": {},
   "outputs": [
    {
     "name": "stdout",
     "output_type": "stream",
     "text": [
      "[5, 7, 97, 77, 23, 73, 61]\n"
     ]
    }
   ],
   "source": [
    "# lambda function with filter() to get only even numbers\n",
    "\n",
    "ls = [5, 7, 22, 97, 54, 62, 77, 23, 73, 61] \n",
    "final_list = list(filter(lambda x: (x%2 != 0) , ls)) \n",
    "print(final_list) \n"
   ]
  },
  {
   "cell_type": "code",
   "execution_count": 20,
   "metadata": {},
   "outputs": [
    {
     "name": "stdout",
     "output_type": "stream",
     "text": [
      "Enter a string:hello how are you? hi\n",
      "['how', 'are']\n"
     ]
    }
   ],
   "source": [
    "# extract the words from a string those having length as 3 \n",
    "s=input('Enter a string:')\n",
    "ls=s.split()\n",
    "ls1=list(filter(lambda x: len(x)==3,ls))\n",
    "print(ls1)"
   ]
  },
  {
   "cell_type": "code",
   "execution_count": 21,
   "metadata": {},
   "outputs": [
    {
     "name": "stdout",
     "output_type": "stream",
     "text": [
      "Enter a string:hello how are you? hi\n",
      "['hello', 'how', 'hi']\n"
     ]
    }
   ],
   "source": [
    "# extract the words from a string which are starting with 'h'\n",
    "s=input('Enter a string:')\n",
    "ls=s.split()\n",
    "ls1=list(filter(lambda x: x.startswith('h'),ls))\n",
    "print(ls1)"
   ]
  },
  {
   "cell_type": "code",
   "execution_count": 13,
   "metadata": {},
   "outputs": [
    {
     "name": "stdout",
     "output_type": "stream",
     "text": [
      "[10, 14, 44, 194, 108, 124, 154, 46, 146, 122]\n"
     ]
    }
   ],
   "source": [
    "# lambda function with map()\n",
    "\n",
    "ls = [5, 7, 22, 97, 54, 62, 77, 23, 73, 61] \n",
    "final_list = list(map(lambda x: x*2 , ls)) \n",
    "print(final_list) \n"
   ]
  },
  {
   "cell_type": "code",
   "execution_count": 25,
   "metadata": {},
   "outputs": [
    {
     "name": "stdout",
     "output_type": "stream",
     "text": [
      "['HI', 'HELLO', 'HOW', 'WORLD']\n"
     ]
    }
   ],
   "source": [
    "# converting list of strings into uppercase using map()\n",
    "\n",
    "ls=['hi', 'HELLO', 'how', 'World']\n",
    "ls1=list(map(lambda x: x.upper(),ls))\n",
    "print(ls1)\n"
   ]
  },
  {
   "cell_type": "code",
   "execution_count": 14,
   "metadata": {},
   "outputs": [
    {
     "name": "stdout",
     "output_type": "stream",
     "text": [
      "193\n"
     ]
    }
   ],
   "source": [
    "\n",
    "# lambda function with reduce()\n",
    "\n",
    "from functools import reduce\n",
    "ls = [5, 8, 10, 20, 50, 100] \n",
    "sum = reduce((lambda x, y: x + y), ls) \n",
    "print (sum) \n"
   ]
  },
  {
   "cell_type": "code",
   "execution_count": 27,
   "metadata": {},
   "outputs": [
    {
     "name": "stdout",
     "output_type": "stream",
     "text": [
      "HIHellohowareyou\n"
     ]
    }
   ],
   "source": [
    "from functools import reduce\n",
    "ls = ['HI', 'Hello', 'how', 'are','you'] \n",
    "sum = reduce((lambda x, y: x + y), ls) \n",
    "print (sum) \n"
   ]
  },
  {
   "cell_type": "code",
   "execution_count": null,
   "metadata": {},
   "outputs": [],
   "source": []
  }
 ],
 "metadata": {
  "kernelspec": {
   "display_name": "Python 3",
   "language": "python",
   "name": "python3"
  },
  "language_info": {
   "codemirror_mode": {
    "name": "ipython",
    "version": 3
   },
   "file_extension": ".py",
   "mimetype": "text/x-python",
   "name": "python",
   "nbconvert_exporter": "python",
   "pygments_lexer": "ipython3",
   "version": "3.7.1"
  }
 },
 "nbformat": 4,
 "nbformat_minor": 2
}
