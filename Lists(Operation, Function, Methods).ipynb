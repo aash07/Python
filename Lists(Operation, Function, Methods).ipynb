{
 "cells": [
  {
   "cell_type": "markdown",
   "metadata": {},
   "source": [
    "# Demonstration of simple lists"
   ]
  },
  {
   "cell_type": "code",
   "execution_count": 1,
   "metadata": {},
   "outputs": [],
   "source": [
    "ls1=[]   #empty list"
   ]
  },
  {
   "cell_type": "code",
   "execution_count": 2,
   "metadata": {},
   "outputs": [
    {
     "data": {
      "text/plain": [
       "list"
      ]
     },
     "execution_count": 2,
     "metadata": {},
     "output_type": "execute_result"
    }
   ],
   "source": [
    "type(ls1)"
   ]
  },
  {
   "cell_type": "code",
   "execution_count": 3,
   "metadata": {},
   "outputs": [
    {
     "name": "stdout",
     "output_type": "stream",
     "text": [
      "[10, 20, -4, 12]\n",
      "Type is: <class 'list'>\n"
     ]
    }
   ],
   "source": [
    "ls2=[10, 20, -4, 12]\n",
    "print(ls2)\n",
    "print('Type is:', type(ls2))"
   ]
  },
  {
   "cell_type": "code",
   "execution_count": 4,
   "metadata": {},
   "outputs": [],
   "source": [
    "ls3=[3.5, 4, 'hi',[10,'hello']]"
   ]
  },
  {
   "cell_type": "code",
   "execution_count": 5,
   "metadata": {},
   "outputs": [
    {
     "name": "stdout",
     "output_type": "stream",
     "text": [
      "[3.5, 4, 'hi', [10, 'hello']]\n"
     ]
    }
   ],
   "source": [
    "print(ls3)   #print whole list"
   ]
  },
  {
   "cell_type": "code",
   "execution_count": 6,
   "metadata": {},
   "outputs": [
    {
     "name": "stdout",
     "output_type": "stream",
     "text": [
      "3.5\n"
     ]
    }
   ],
   "source": [
    "print(ls3[0])   #print 1st elemet of a list"
   ]
  },
  {
   "cell_type": "code",
   "execution_count": 7,
   "metadata": {},
   "outputs": [
    {
     "name": "stdout",
     "output_type": "stream",
     "text": [
      "hi\n"
     ]
    }
   ],
   "source": [
    "print(ls3[2])    #print 3rd element"
   ]
  },
  {
   "cell_type": "code",
   "execution_count": 8,
   "metadata": {},
   "outputs": [
    {
     "name": "stdout",
     "output_type": "stream",
     "text": [
      "[10, 'hello']\n"
     ]
    }
   ],
   "source": [
    "print(ls3[3])    #print 4th element which is a list again"
   ]
  },
  {
   "cell_type": "code",
   "execution_count": 9,
   "metadata": {},
   "outputs": [
    {
     "name": "stdout",
     "output_type": "stream",
     "text": [
      "10\n"
     ]
    }
   ],
   "source": [
    "print(ls3[3][0])   #print 1st element of inner list"
   ]
  },
  {
   "cell_type": "code",
   "execution_count": 10,
   "metadata": {},
   "outputs": [
    {
     "name": "stdout",
     "output_type": "stream",
     "text": [
      "hello\n"
     ]
    }
   ],
   "source": [
    "print(ls3[3][1])   #print 2nd elment of inner list"
   ]
  },
  {
   "cell_type": "code",
   "execution_count": 11,
   "metadata": {},
   "outputs": [
    {
     "name": "stdout",
     "output_type": "stream",
     "text": [
      "e\n"
     ]
    }
   ],
   "source": [
    "print(ls3[3][1][1])   #print 2nd character of the string 'hello' of inner list"
   ]
  },
  {
   "cell_type": "markdown",
   "metadata": {},
   "source": [
    "# More operations"
   ]
  },
  {
   "cell_type": "code",
   "execution_count": 12,
   "metadata": {},
   "outputs": [],
   "source": [
    "ls=list(range(1,11))"
   ]
  },
  {
   "cell_type": "code",
   "execution_count": 13,
   "metadata": {},
   "outputs": [
    {
     "data": {
      "text/plain": [
       "[1, 2, 3, 4, 5, 6, 7, 8, 9, 10]"
      ]
     },
     "execution_count": 13,
     "metadata": {},
     "output_type": "execute_result"
    }
   ],
   "source": [
    "ls"
   ]
  },
  {
   "cell_type": "code",
   "execution_count": 14,
   "metadata": {},
   "outputs": [
    {
     "name": "stdout",
     "output_type": "stream",
     "text": [
      "[1, 3, 5, 7, 9, 11, 13, 15, 17, 19]\n"
     ]
    }
   ],
   "source": [
    "ls1=list(range(1,20,2))\n",
    "print(ls1)"
   ]
  },
  {
   "cell_type": "code",
   "execution_count": 45,
   "metadata": {},
   "outputs": [
    {
     "name": "stdout",
     "output_type": "stream",
     "text": [
      "Enter a number:2\n",
      "[2]\n",
      "[2, 4]\n",
      "[2, 4, 6]\n",
      "[2, 4, 6, 8]\n",
      "[2, 4, 6, 8, 10]\n",
      "[2, 4, 6, 8, 10, 12]\n",
      "[2, 4, 6, 8, 10, 12, 14]\n",
      "[2, 4, 6, 8, 10, 12, 14, 16]\n",
      "[2, 4, 6, 8, 10, 12, 14, 16, 18]\n",
      "[2, 4, 6, 8, 10, 12, 14, 16, 18, 20]\n"
     ]
    }
   ],
   "source": [
    "#multiplication list\n",
    "x=int(input('Enter a number:'))\n",
    "ls=[]\n",
    "for i in range(1,11):\n",
    "    ls=ls+ [x*i]\n",
    "    print(ls)"
   ]
  },
  {
   "cell_type": "code",
   "execution_count": 16,
   "metadata": {},
   "outputs": [
    {
     "name": "stdout",
     "output_type": "stream",
     "text": [
      "[1, 2, -4, 3.4, 'hi', 10]\n"
     ]
    }
   ],
   "source": [
    "# Concatenation of lists using +\n",
    "ls1=[1,2,-4, 3.4]\n",
    "ls2=['hi', 10]\n",
    "ls3=ls1+ls2\n",
    "print(ls3)"
   ]
  },
  {
   "cell_type": "code",
   "execution_count": 17,
   "metadata": {},
   "outputs": [
    {
     "name": "stdout",
     "output_type": "stream",
     "text": [
      "[1, 2, 3, 1, 2, 3, 1, 2, 3]\n"
     ]
    }
   ],
   "source": [
    "# Repetition using *\n",
    "ls=[1,2,3]\n",
    "ls1=ls*3\n",
    "print(ls1)\n"
   ]
  },
  {
   "cell_type": "code",
   "execution_count": 18,
   "metadata": {},
   "outputs": [
    {
     "name": "stdout",
     "output_type": "stream",
     "text": [
      "['c', 'd']\n",
      "['a', 'b', 'c']\n",
      "['b', 'c', 'd', 'e']\n",
      "['a', 'b', 'c', 'd', 'e']\n",
      "['a', 'b', 'c']\n",
      "['e', 'd', 'c', 'b', 'a']\n"
     ]
    }
   ],
   "source": [
    "# List slicing\n",
    "\n",
    "t=['a','b','c','d','e']\n",
    "print(t[2:4])\n",
    "print(t[:3])\n",
    "print(t[1:])\n",
    "print(t[:])\n",
    "print(t[:-2])\n",
    "print(t[::-1])\n"
   ]
  },
  {
   "cell_type": "code",
   "execution_count": 19,
   "metadata": {},
   "outputs": [
    {
     "name": "stdout",
     "output_type": "stream",
     "text": [
      "['a', 'b', 'c', 10, 'e']\n"
     ]
    }
   ],
   "source": [
    "# LISTS ARE MUTABLE\n",
    "t=['a','b','c','d','e']\n",
    "t[3]=10\n",
    "print(t)\n"
   ]
  },
  {
   "cell_type": "code",
   "execution_count": 20,
   "metadata": {},
   "outputs": [
    {
     "name": "stdout",
     "output_type": "stream",
     "text": [
      "['a', 10, 20, 'd', 'e']\n"
     ]
    }
   ],
   "source": [
    "t=['a','b','c','d','e']\n",
    "t[1:3]=[10,20]\n",
    "print(t)\n"
   ]
  },
  {
   "cell_type": "markdown",
   "metadata": {},
   "source": [
    "# List Methods\n"
   ]
  },
  {
   "cell_type": "code",
   "execution_count": 21,
   "metadata": {},
   "outputs": [
    {
     "name": "stdout",
     "output_type": "stream",
     "text": [
      "[1, 2, 3, 4]\n",
      "None\n"
     ]
    }
   ],
   "source": [
    "ls=[1,2,3]\n",
    "x= ls.append(4)\n",
    "print(ls)\n",
    "print(x)"
   ]
  },
  {
   "cell_type": "code",
   "execution_count": 22,
   "metadata": {},
   "outputs": [
    {
     "name": "stdout",
     "output_type": "stream",
     "text": [
      "[5, 6, 1, 2, 3]\n"
     ]
    }
   ],
   "source": [
    "ls1=[1,2,3]\n",
    "ls2=[5,6]\n",
    "ls2.extend(ls1)\n",
    "print(ls2)"
   ]
  },
  {
   "cell_type": "code",
   "execution_count": 23,
   "metadata": {},
   "outputs": [
    {
     "name": "stdout",
     "output_type": "stream",
     "text": [
      "[5, 6, [1, 2, 3]]\n"
     ]
    }
   ],
   "source": [
    "ls1=[1,2,3]\n",
    "ls2=[5,6]\n",
    "ls2.append(ls1)\n",
    "print(ls2)"
   ]
  },
  {
   "cell_type": "code",
   "execution_count": 24,
   "metadata": {},
   "outputs": [
    {
     "name": "stdout",
     "output_type": "stream",
     "text": [
      "[-3, 0, 4, 12, 13, 45]\n"
     ]
    }
   ],
   "source": [
    "#sorting a list\n",
    "ls= [4, 12, -3, 0, 45, 13]\n",
    "ls.sort()\n",
    "print(ls)"
   ]
  },
  {
   "cell_type": "code",
   "execution_count": 25,
   "metadata": {},
   "outputs": [
    {
     "name": "stdout",
     "output_type": "stream",
     "text": [
      "[45, 13, 12, 4, 0, -3]\n"
     ]
    }
   ],
   "source": [
    "#sorting in descending order\n",
    "ls= [4, 12, -3, 0, 45, 13]\n",
    "ls.sort(reverse=True)\n",
    "print(ls)"
   ]
  },
  {
   "cell_type": "code",
   "execution_count": 26,
   "metadata": {},
   "outputs": [
    {
     "name": "stdout",
     "output_type": "stream",
     "text": [
      "Sorted list:  [-3, 0, 4, 12, 13, 45]\n",
      "Original list:  [4, 12, -3, 0, 45, 13]\n"
     ]
    }
   ],
   "source": [
    "#sorting without modifying original object\n",
    "ls= [4, 12, -3, 0, 45, 13]\n",
    "ls1= sorted(ls)\n",
    "print('Sorted list: ', ls1)\n",
    "print('Original list: ',ls)\n"
   ]
  },
  {
   "cell_type": "code",
   "execution_count": 27,
   "metadata": {},
   "outputs": [
    {
     "name": "stdout",
     "output_type": "stream",
     "text": [
      "original: [4, 12, -3, 0, 45, 13]\n",
      "Ascending:  [-3, 0, 4, 12, 13, 45]\n",
      "Descending: [45, 13, 12, 4, 0, -3]\n"
     ]
    }
   ],
   "source": [
    "ls2=sorted(ls,reverse=True)\n",
    "print('original:', ls)\n",
    "print('Ascending: ', ls1)\n",
    "print('Descending:', ls2)"
   ]
  },
  {
   "cell_type": "code",
   "execution_count": 28,
   "metadata": {},
   "outputs": [
    {
     "name": "stdout",
     "output_type": "stream",
     "text": [
      "[12, 31, -5, 10]\n"
     ]
    }
   ],
   "source": [
    "# Reverse a list\n",
    "ls=[10, -5, 31, 12,]\n",
    "ls.reverse()\n",
    "print(ls)"
   ]
  },
  {
   "cell_type": "code",
   "execution_count": 29,
   "metadata": {},
   "outputs": [
    {
     "name": "stdout",
     "output_type": "stream",
     "text": [
      "5\n"
     ]
    }
   ],
   "source": [
    "# Deleting elements from the list based on index\n",
    "\n",
    "ls= [1,2,10,4,-5,'hi',3.4,5]\n",
    "x=ls.pop()       #last element will be popped out, by default\n",
    "print(x)"
   ]
  },
  {
   "cell_type": "code",
   "execution_count": 30,
   "metadata": {},
   "outputs": [
    {
     "name": "stdout",
     "output_type": "stream",
     "text": [
      "4\n"
     ]
    }
   ],
   "source": [
    "ls= [1,2,10,4,-5,'hi',3.4,5]\n",
    "x=ls.pop(3)       # given indexed element will be popped out\n",
    "print(x)"
   ]
  },
  {
   "cell_type": "code",
   "execution_count": 31,
   "metadata": {},
   "outputs": [
    {
     "name": "stdout",
     "output_type": "stream",
     "text": [
      "[34, -4, 12, 65]\n"
     ]
    }
   ],
   "source": [
    "# delete a required element using remove()\n",
    "ls=[34, -4, 5, 12, 65]\n",
    "ls.remove(5)\n",
    "print(ls)\n"
   ]
  },
  {
   "cell_type": "code",
   "execution_count": 32,
   "metadata": {},
   "outputs": [
    {
     "name": "stdout",
     "output_type": "stream",
     "text": [
      "[23, 35, 65, 12, 3.5, 'hi', 45]\n"
     ]
    }
   ],
   "source": [
    "# deleting more than one element using keyword del\n",
    "ls=[23,35, -4, 65,12, 3.5, 'hi', 45]\n",
    "del ls[2]           # ls[2] that is 3rd element is deleted\n",
    "print(ls)"
   ]
  },
  {
   "cell_type": "code",
   "execution_count": 33,
   "metadata": {},
   "outputs": [
    {
     "name": "stdout",
     "output_type": "stream",
     "text": [
      "[23, 12, 3.5, 'hi', 45]\n"
     ]
    }
   ],
   "source": [
    "# deleting more than one element using keyword del\n",
    "ls=[23,35, -4, 65,12, 3.5, 'hi', 45]\n",
    "del ls[1:4]           # 1st, 2nd and 3rd elementsare deleted\n",
    "print(ls)"
   ]
  },
  {
   "cell_type": "code",
   "execution_count": 34,
   "metadata": {},
   "outputs": [
    {
     "name": "stdout",
     "output_type": "stream",
     "text": [
      "[]\n"
     ]
    }
   ],
   "source": [
    "#clear all elements from list\n",
    "ls=[3, 0, 4]\n",
    "ls.clear()\n",
    "print(ls)"
   ]
  },
  {
   "cell_type": "code",
   "execution_count": 35,
   "metadata": {},
   "outputs": [
    {
     "name": "stdout",
     "output_type": "stream",
     "text": [
      "3\n"
     ]
    }
   ],
   "source": [
    "#counting the occurrances of element\n",
    "ls=[1, 2, 4, 2, 34, 45, 2, 12,6]\n",
    "x=ls.count(2)\n",
    "print(x)"
   ]
  },
  {
   "cell_type": "code",
   "execution_count": 36,
   "metadata": {},
   "outputs": [
    {
     "name": "stdout",
     "output_type": "stream",
     "text": [
      "[1, 20, 35, -4, 56, 12]\n"
     ]
    }
   ],
   "source": [
    "#inserting single element at a required position\n",
    "ls=[1,20, -4, 56, 12]\n",
    "ls.insert(2,35)\n",
    "print(ls)"
   ]
  },
  {
   "cell_type": "markdown",
   "metadata": {},
   "source": [
    "# Copying one object into other\n"
   ]
  },
  {
   "cell_type": "code",
   "execution_count": 37,
   "metadata": {},
   "outputs": [
    {
     "name": "stdout",
     "output_type": "stream",
     "text": [
      "[1, 2, 3]\n"
     ]
    }
   ],
   "source": [
    "ls=[1,2,3]\n",
    "ls1=ls       # now ls1 is an alias name for ls, but not a different variable\n",
    "print(ls1)"
   ]
  },
  {
   "cell_type": "code",
   "execution_count": 38,
   "metadata": {},
   "outputs": [
    {
     "name": "stdout",
     "output_type": "stream",
     "text": [
      "[1, 5, 3]\n",
      "[1, 5, 3]\n"
     ]
    }
   ],
   "source": [
    "ls1[1]=5    # modifying ls1 will reflect ls also\n",
    "print(ls1)\n",
    "print(ls)"
   ]
  },
  {
   "cell_type": "code",
   "execution_count": 39,
   "metadata": {},
   "outputs": [
    {
     "name": "stdout",
     "output_type": "stream",
     "text": [
      "[1, 2, 3]\n",
      "[1, 2, 3]\n",
      "[1, 2, 3]\n",
      "[1, 2, 10]\n"
     ]
    }
   ],
   "source": [
    "ls=[1,2,3]   \n",
    "ls1=ls.copy()    #use copy() function to avoid the problem\n",
    "print(ls)\n",
    "print(ls1)\n",
    "ls1[2]=10\n",
    "print(ls)\n",
    "print(ls1)\n"
   ]
  },
  {
   "cell_type": "markdown",
   "metadata": {},
   "source": [
    "# Utility functions on lists"
   ]
  },
  {
   "cell_type": "code",
   "execution_count": 40,
   "metadata": {},
   "outputs": [
    {
     "name": "stdout",
     "output_type": "stream",
     "text": [
      "34\n",
      "-4\n",
      "47\n",
      "4\n"
     ]
    }
   ],
   "source": [
    "ls=[12,34,-4,5]\n",
    "print(max(ls))\n",
    "print(min(ls))\n",
    "print(sum(ls))\n",
    "print(len(ls))\n"
   ]
  },
  {
   "cell_type": "markdown",
   "metadata": {},
   "source": [
    "# Lists and Strings"
   ]
  },
  {
   "cell_type": "code",
   "execution_count": 41,
   "metadata": {},
   "outputs": [
    {
     "name": "stdout",
     "output_type": "stream",
     "text": [
      "['H', 'e', 'l', 'l', 'o']\n"
     ]
    }
   ],
   "source": [
    "#Converting a string into list of characters\n",
    "\n",
    "s= 'Hello'\n",
    "ls=list(s)\n",
    "print(ls)"
   ]
  },
  {
   "cell_type": "code",
   "execution_count": 42,
   "metadata": {},
   "outputs": [
    {
     "name": "stdout",
     "output_type": "stream",
     "text": [
      "['Hello', 'how', 'are', 'you?']\n"
     ]
    }
   ],
   "source": [
    "#Getting list of strings from a sentence\n",
    "s='Hello how are you?'\n",
    "ls=s.split(' ')\n",
    "print(ls)"
   ]
  },
  {
   "cell_type": "code",
   "execution_count": 43,
   "metadata": {},
   "outputs": [
    {
     "name": "stdout",
     "output_type": "stream",
     "text": [
      "['06', '02', '2019']\n"
     ]
    }
   ],
   "source": [
    "#Example: splitting a date into dd, mm and yyyy\n",
    "d='06/02/2019'\n",
    "ls=d.split('/')\n",
    "print(ls)"
   ]
  },
  {
   "cell_type": "code",
   "execution_count": 44,
   "metadata": {},
   "outputs": [
    {
     "data": {
      "text/plain": [
       "'hello how are you'"
      ]
     },
     "execution_count": 44,
     "metadata": {},
     "output_type": "execute_result"
    }
   ],
   "source": [
    "ls=['hello', 'how', 'are', 'you']\n",
    "s=' '\n",
    "s.join(ls)"
   ]
  },
  {
   "cell_type": "code",
   "execution_count": null,
   "metadata": {},
   "outputs": [],
   "source": []
  },
  {
   "cell_type": "code",
   "execution_count": null,
   "metadata": {},
   "outputs": [],
   "source": []
  }
 ],
 "metadata": {
  "kernelspec": {
   "display_name": "Python 3",
   "language": "python",
   "name": "python3"
  },
  "language_info": {
   "codemirror_mode": {
    "name": "ipython",
    "version": 3
   },
   "file_extension": ".py",
   "mimetype": "text/x-python",
   "name": "python",
   "nbconvert_exporter": "python",
   "pygments_lexer": "ipython3",
   "version": "3.7.3"
  }
 },
 "nbformat": 4,
 "nbformat_minor": 2
}
