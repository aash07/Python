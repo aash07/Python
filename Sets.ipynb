{
 "cells": [
  {
   "cell_type": "code",
   "execution_count": 9,
   "metadata": {},
   "outputs": [
    {
     "name": "stdout",
     "output_type": "stream",
     "text": [
      "<class 'set'>\n"
     ]
    }
   ],
   "source": [
    "# Creating a simple set\n",
    "\n",
    "st = {'Apple', 'Banana', 'Orange'}\n",
    "print(type(st))"
   ]
  },
  {
   "cell_type": "code",
   "execution_count": 10,
   "metadata": {},
   "outputs": [
    {
     "name": "stdout",
     "output_type": "stream",
     "text": [
      "{'Orange', 'Banana', 'Apple'}\n"
     ]
    }
   ],
   "source": [
    "print(st)"
   ]
  },
  {
   "cell_type": "code",
   "execution_count": 11,
   "metadata": {},
   "outputs": [
    {
     "name": "stdout",
     "output_type": "stream",
     "text": [
      "{'Orange', 'Banana', 'Cherry', 'Apple'}\n"
     ]
    }
   ],
   "source": [
    "# add element to set\n",
    "st.add('Cherry')\n",
    "print(st)"
   ]
  },
  {
   "cell_type": "code",
   "execution_count": 12,
   "metadata": {},
   "outputs": [
    {
     "name": "stdout",
     "output_type": "stream",
     "text": [
      "{'Orange', 'Cherry', 'Apple'}\n"
     ]
    }
   ],
   "source": [
    "# remove element from set\n",
    "st.remove('Banana')\n",
    "print(st)"
   ]
  },
  {
   "cell_type": "code",
   "execution_count": 13,
   "metadata": {},
   "outputs": [
    {
     "name": "stdout",
     "output_type": "stream",
     "text": [
      "{'papaya', 'Apple', 'Orange', 'Cherry', 'Banana'}\n"
     ]
    }
   ],
   "source": [
    "# adding more than one element at a time\n",
    "st = {'Apple', 'Banana', 'Orange'}\n",
    "st.update(['Cherry', 'papaya'])\n",
    "print(st)"
   ]
  },
  {
   "cell_type": "code",
   "execution_count": 14,
   "metadata": {},
   "outputs": [
    {
     "name": "stdout",
     "output_type": "stream",
     "text": [
      "{'Orange', 'Banana', 'Apple'}\n"
     ]
    }
   ],
   "source": [
    "# Sets will not allow duplication of data elements\n",
    "st= {'Apple', 'Banana', 'Orange', 'Banana'}\n",
    "print(st)"
   ]
  },
  {
   "cell_type": "code",
   "execution_count": 15,
   "metadata": {},
   "outputs": [
    {
     "name": "stdout",
     "output_type": "stream",
     "text": [
      "[1, 2, 67, 3, 68, 10, 12, 45, 21, 54, 23]\n"
     ]
    }
   ],
   "source": [
    "# Write a program to eliminate repeated entries in a list and keep single copy\n",
    "# of each element.\n",
    "\n",
    "ls=[1,3, 21, 45, 3, 67, 23, 21, 3, 54, 45, 10, 68, 2, 12]\n",
    "ls=list(set(ls))\n",
    "print(ls)\n"
   ]
  },
  {
   "cell_type": "code",
   "execution_count": 22,
   "metadata": {},
   "outputs": [
    {
     "name": "stdout",
     "output_type": "stream",
     "text": [
      "[(11, 1), (7, 2), (12, 2), (14, 2), (13, 4)]\n"
     ]
    }
   ],
   "source": [
    "'''\n",
    "Write a Python function histogram(ls) that takes as input a list of integers with repetitions and returns a list of pairs as follows: \n",
    "for each number n that appears in ls, there should be exactly one pair (n,r) in the list returned by the function, where r is the number of repetitions of n in ls.\n",
    "the final list should be sorted in ascending order by r, the number of repetitions. For numbers that occur with the same number of repetitions, arrange the pairs in ascending order of the value of the number.\n",
    "\tFor instance:\n",
    "\t>>> histogram([13,12,11,13,14,13,7,7,13,14,12])\n",
    "\t\tResult is\t [(11, 1), (7, 2), (12, 2), (14, 2), (13, 4)] \n",
    "\t>>> histogram([7,12,11,13,7,11,13,14,12]) \n",
    "\t\t Result is \t[(14, 1), (7, 2),  (11, 2), (12, 2), (13, 2)] \n",
    "\n",
    "'''\n",
    " \n",
    "\n",
    "def histogram(l):\n",
    "    ls=[]\n",
    "    for i in l:\n",
    "        ls.append((i,l.count(i)))\n",
    "        \n",
    "    ls=list(set(ls))\n",
    "    ls.sort(key=lambda x:(x[1],x[0]))\n",
    "    print(ls)\n",
    "\n",
    "histogram([13,12,11,13,14,13,7,7,13,14,12])\n",
    "#histogram([7,12,11,13,7,11,13,14,12]) "
   ]
  },
  {
   "cell_type": "code",
   "execution_count": 23,
   "metadata": {},
   "outputs": [
    {
     "name": "stdout",
     "output_type": "stream",
     "text": [
      "[(1, 1, 2), (1, 1, 3), (1, 2, 3)]\n"
     ]
    }
   ],
   "source": [
    "triples = [ (x,y,z) for x in range(1,4) for y in range(x,4) for z in range(y,4) if x+y <= z ]\n",
    "print(triples)\n"
   ]
  },
  {
   "cell_type": "code",
   "execution_count": null,
   "metadata": {},
   "outputs": [],
   "source": []
  }
 ],
 "metadata": {
  "kernelspec": {
   "display_name": "Python 3",
   "language": "python",
   "name": "python3"
  },
  "language_info": {
   "codemirror_mode": {
    "name": "ipython",
    "version": 3
   },
   "file_extension": ".py",
   "mimetype": "text/x-python",
   "name": "python",
   "nbconvert_exporter": "python",
   "pygments_lexer": "ipython3",
   "version": "3.7.1"
  }
 },
 "nbformat": 4,
 "nbformat_minor": 2
}
