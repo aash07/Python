{
 "cells": [
  {
   "cell_type": "code",
   "execution_count": 1,
   "metadata": {},
   "outputs": [
    {
     "name": "stdout",
     "output_type": "stream",
     "text": [
      "31\n"
     ]
    }
   ],
   "source": [
    "x= input()"
   ]
  },
  {
   "cell_type": "code",
   "execution_count": 3,
   "metadata": {},
   "outputs": [
    {
     "name": "stdout",
     "output_type": "stream",
     "text": [
      "31\n"
     ]
    }
   ],
   "source": [
    "print(x)"
   ]
  },
  {
   "cell_type": "code",
   "execution_count": 5,
   "metadata": {},
   "outputs": [
    {
     "name": "stdout",
     "output_type": "stream",
     "text": [
      "enter a nnumb:12\n"
     ]
    }
   ],
   "source": [
    "x= input('enter a numb:')"
   ]
  },
  {
   "cell_type": "code",
   "execution_count": 8,
   "metadata": {},
   "outputs": [
    {
     "name": "stdout",
     "output_type": "stream",
     "text": [
      "enter a nnumb:12\n"
     ]
    }
   ],
   "source": [
    "x= int(input('enter a numb:'))"
   ]
  },
  {
   "cell_type": "code",
   "execution_count": null,
   "metadata": {},
   "outputs": [],
   "source": [
    "#conditional structures"
   ]
  },
  {
   "cell_type": "code",
   "execution_count": 11,
   "metadata": {},
   "outputs": [
    {
     "name": "stdout",
     "output_type": "stream",
     "text": [
      "enter a numb:12\n",
      "FAIL\n"
     ]
    }
   ],
   "source": [
    "x= int(input('enter a numb:'))\n",
    "if x>=40:\n",
    "    print('PASS')\n",
    "else:\n",
    "    print('FAIL')"
   ]
  },
  {
   "cell_type": "code",
   "execution_count": 12,
   "metadata": {},
   "outputs": [],
   "source": [
    "# utility functions\n",
    "- max\n",
    "- min \n",
    "- len"
   ]
  },
  {
   "cell_type": "code",
   "execution_count": 14,
   "metadata": {},
   "outputs": [
    {
     "data": {
      "text/plain": [
       "31"
      ]
     },
     "execution_count": 14,
     "metadata": {},
     "output_type": "execute_result"
    }
   ],
   "source": [
    "x = max(31,20,-266)\n",
    "x"
   ]
  },
  {
   "cell_type": "code",
   "execution_count": 15,
   "metadata": {},
   "outputs": [
    {
     "data": {
      "text/plain": [
       "-266"
      ]
     },
     "execution_count": 15,
     "metadata": {},
     "output_type": "execute_result"
    }
   ],
   "source": [
    "x = min(31,20,-266)\n",
    "x"
   ]
  },
  {
   "cell_type": "code",
   "execution_count": 17,
   "metadata": {},
   "outputs": [
    {
     "data": {
      "text/plain": [
       "8"
      ]
     },
     "execution_count": 17,
     "metadata": {},
     "output_type": "execute_result"
    }
   ],
   "source": [
    "x = len('hello420')\n",
    "x"
   ]
  },
  {
   "cell_type": "code",
   "execution_count": 18,
   "metadata": {},
   "outputs": [],
   "source": [
    "#math func"
   ]
  },
  {
   "cell_type": "code",
   "execution_count": 19,
   "metadata": {},
   "outputs": [],
   "source": [
    "import math"
   ]
  },
  {
   "cell_type": "code",
   "execution_count": 23,
   "metadata": {},
   "outputs": [
    {
     "name": "stdout",
     "output_type": "stream",
     "text": [
      "enter a numb:25\n",
      "5\n",
      "enter a numb:3\n",
      "Radius is: --3--and Area of circle is :--28.274333882308138--cm\n"
     ]
    }
   ],
   "source": [
    "a= int(input('enter a numb:'))\n",
    "b= int(math.sqrt(a))\n",
    "print(b)\n",
    "r= int(input('enter a numb:'))\n",
    "area= math.pi*r**2\n",
    "print('Radius is: ', r, 'and Area of circle is :', area, 'cm', sep='--')"
   ]
  },
  {
   "cell_type": "code",
   "execution_count": 24,
   "metadata": {},
   "outputs": [
    {
     "name": "stdout",
     "output_type": "stream",
     "text": [
      "Hello World\n"
     ]
    }
   ],
   "source": [
    "print('Hello',end=' ')  #changing ending format for print\n",
    "print('World')"
   ]
  },
  {
   "cell_type": "code",
   "execution_count": 25,
   "metadata": {},
   "outputs": [
    {
     "name": "stdout",
     "output_type": "stream",
     "text": [
      "1.6666666666666667\n"
     ]
    }
   ],
   "source": [
    "a=5/3\n",
    "print(a)"
   ]
  },
  {
   "cell_type": "code",
   "execution_count": 26,
   "metadata": {},
   "outputs": [
    {
     "name": "stdout",
     "output_type": "stream",
     "text": [
      "Value of a is : 1.67\n"
     ]
    }
   ],
   "source": [
    "a=5/3\n",
    "print(\"Value of a is : {0:.2f}\".format(a))"
   ]
  },
  {
   "cell_type": "code",
   "execution_count": 27,
   "metadata": {},
   "outputs": [
    {
     "name": "stdout",
     "output_type": "stream",
     "text": [
      "value of b is:  0.857\n"
     ]
    }
   ],
   "source": [
    "b=6/7\n",
    "print('value of b is: {0: .3f}'.format(b))"
   ]
  },
  {
   "cell_type": "code",
   "execution_count": 28,
   "metadata": {},
   "outputs": [
    {
     "name": "stdout",
     "output_type": "stream",
     "text": [
      "Value of a is  1.6667 and Value of b is  0.57\n"
     ]
    }
   ],
   "source": [
    "a=5/3\n",
    "b=4/7\n",
    "print('Value of a is {0: 0.4f} and Value of b is {1: 0.2f}'.format(a,b))"
   ]
  },
  {
   "cell_type": "code",
   "execution_count": 30,
   "metadata": {},
   "outputs": [
    {
     "name": "stdout",
     "output_type": "stream",
     "text": [
      "Value of a is   1.6667 and Value of b is  0.57\n"
     ]
    }
   ],
   "source": [
    "print('Value of a is {0: 8.4f} and Value of b is {1: 3.2f}'.format(a,b))"
   ]
  },
  {
   "cell_type": "code",
   "execution_count": 31,
   "metadata": {},
   "outputs": [],
   "source": [
    "# String indexing"
   ]
  },
  {
   "cell_type": "code",
   "execution_count": 32,
   "metadata": {},
   "outputs": [
    {
     "name": "stdout",
     "output_type": "stream",
     "text": [
      "e\n",
      "o\n"
     ]
    }
   ],
   "source": [
    "s1= 'hello'\n",
    "print(s1[1])\n",
    "print(s1[-1])"
   ]
  },
  {
   "cell_type": "code",
   "execution_count": 39,
   "metadata": {},
   "outputs": [
    {
     "name": "stdout",
     "output_type": "stream",
     "text": [
      "h e l l o "
     ]
    }
   ],
   "source": [
    "st = 'hello asha'\n",
    "for i in st:\n",
    "    if i == ' ':\n",
    "        break\n",
    "    \n",
    "    print(i, end = ' ')"
   ]
  },
  {
   "cell_type": "code",
   "execution_count": 46,
   "metadata": {},
   "outputs": [
    {
     "name": "stdout",
     "output_type": "stream",
     "text": [
      "18\n",
      "-1\n"
     ]
    }
   ],
   "source": [
    "s=\"hello how are you?\"\n",
    "print(len(s))\n",
    "x=s.find('o',8,12)\n",
    "print(x)"
   ]
  },
  {
   "cell_type": "code",
   "execution_count": 43,
   "metadata": {},
   "outputs": [
    {
     "name": "stdout",
     "output_type": "stream",
     "text": [
      "-1\n"
     ]
    }
   ],
   "source": [
    "s=\"hello how aro you?\"\n",
    "x=s.find('o',8,12)\n",
    "print(x)"
   ]
  },
  {
   "cell_type": "code",
   "execution_count": null,
   "metadata": {},
   "outputs": [],
   "source": [
    "'''Write a Python function to get a string made of the first 2 and the last 2 chars from a\n",
    "given string. If the string length is less than 2, return same string, otherwise return\n",
    "new string created.'''"
   ]
  },
  {
   "cell_type": "code",
   "execution_count": 55,
   "metadata": {},
   "outputs": [
    {
     "name": "stdout",
     "output_type": "stream",
     "text": [
      "Enter a string: fhfhfhf\n",
      "fhhf\n"
     ]
    }
   ],
   "source": [
    "x= input('Enter a string: ')\n",
    "if len(x)<2:\n",
    "    print(x)\n",
    "else:\n",
    "    y=x[:2]+x[-2:]\n",
    "    print(y)"
   ]
  },
  {
   "cell_type": "code",
   "execution_count": null,
   "metadata": {},
   "outputs": [],
   "source": [
    "'''Consider a string s=“Hello how are you?”. Write a program to display this string\n",
    "without spaces.  '''"
   ]
  },
  {
   "cell_type": "code",
   "execution_count": 59,
   "metadata": {},
   "outputs": [
    {
     "data": {
      "text/plain": [
       "'Hellohowareyou?'"
      ]
     },
     "execution_count": 59,
     "metadata": {},
     "output_type": "execute_result"
    }
   ],
   "source": [
    "s= 'Hello how are you?'\n",
    "s.replace(' ','')"
   ]
  },
  {
   "cell_type": "code",
   "execution_count": 1,
   "metadata": {},
   "outputs": [],
   "source": [
    "ls= []"
   ]
  },
  {
   "cell_type": "code",
   "execution_count": 2,
   "metadata": {},
   "outputs": [
    {
     "data": {
      "text/plain": [
       "list"
      ]
     },
     "execution_count": 2,
     "metadata": {},
     "output_type": "execute_result"
    }
   ],
   "source": [
    "type(ls)"
   ]
  },
  {
   "cell_type": "code",
   "execution_count": 3,
   "metadata": {},
   "outputs": [],
   "source": [
    "ls1 = [1,2,3,4,[1,2,3,'hello']]"
   ]
  },
  {
   "cell_type": "code",
   "execution_count": 4,
   "metadata": {},
   "outputs": [
    {
     "name": "stdout",
     "output_type": "stream",
     "text": [
      "[1, 2, 3, 4, [1, 2, 3, 'hello']]\n"
     ]
    }
   ],
   "source": [
    "print(ls1)"
   ]
  },
  {
   "cell_type": "code",
   "execution_count": 6,
   "metadata": {},
   "outputs": [
    {
     "data": {
      "text/plain": [
       "5"
      ]
     },
     "execution_count": 6,
     "metadata": {},
     "output_type": "execute_result"
    }
   ],
   "source": [
    "len(ls1)"
   ]
  },
  {
   "cell_type": "code",
   "execution_count": 7,
   "metadata": {},
   "outputs": [
    {
     "data": {
      "text/plain": [
       "[1, 2, 3, 'hello']"
      ]
     },
     "execution_count": 7,
     "metadata": {},
     "output_type": "execute_result"
    }
   ],
   "source": [
    "ls1[4]"
   ]
  },
  {
   "cell_type": "code",
   "execution_count": 13,
   "metadata": {},
   "outputs": [
    {
     "data": {
      "text/plain": [
       "2"
      ]
     },
     "execution_count": 13,
     "metadata": {},
     "output_type": "execute_result"
    }
   ],
   "source": [
    "ls1[4][1]"
   ]
  },
  {
   "cell_type": "code",
   "execution_count": 14,
   "metadata": {},
   "outputs": [
    {
     "data": {
      "text/plain": [
       "'hello'"
      ]
     },
     "execution_count": 14,
     "metadata": {},
     "output_type": "execute_result"
    }
   ],
   "source": [
    "ls1[4][3]"
   ]
  },
  {
   "cell_type": "code",
   "execution_count": 15,
   "metadata": {},
   "outputs": [],
   "source": [
    "l= list(range(1,11))"
   ]
  },
  {
   "cell_type": "code",
   "execution_count": 16,
   "metadata": {},
   "outputs": [
    {
     "data": {
      "text/plain": [
       "[1, 2, 3, 4, 5, 6, 7, 8, 9, 10]"
      ]
     },
     "execution_count": 16,
     "metadata": {},
     "output_type": "execute_result"
    }
   ],
   "source": [
    "l"
   ]
  },
  {
   "cell_type": "code",
   "execution_count": 17,
   "metadata": {},
   "outputs": [
    {
     "name": "stdout",
     "output_type": "stream",
     "text": [
      "['c', 'd']\n"
     ]
    }
   ],
   "source": [
    "t=['a','b','c','d','e']\n",
    "print(t[2:4])"
   ]
  },
  {
   "cell_type": "code",
   "execution_count": 18,
   "metadata": {},
   "outputs": [
    {
     "name": "stdout",
     "output_type": "stream",
     "text": [
      "['a', 'b', 'c', 10, 'e']\n"
     ]
    }
   ],
   "source": [
    "# LISTS ARE MUTABLE\n",
    "t=['a','b','c','d','e']\n",
    "t[3]=10\n",
    "print(t)"
   ]
  },
  {
   "cell_type": "code",
   "execution_count": 21,
   "metadata": {},
   "outputs": [
    {
     "name": "stdout",
     "output_type": "stream",
     "text": [
      "[1, 2, 3, 4]\n",
      "[1, 2, 3, 4, 5, 6, 7, 8]\n",
      "[1, 2, 3, 4, 5, 6, 7, 8, [5, 6, 7, 8]]\n"
     ]
    }
   ],
   "source": [
    "# List Metheods\n",
    "ls= [1,2,3]\n",
    "ls1= [5,6,7,8]\n",
    "x= ls.append(4)\n",
    "print(ls)\n",
    "ls.extend(ls1)\n",
    "print(ls)\n",
    "ls.append(ls1)\n",
    "print(ls)"
   ]
  },
  {
   "cell_type": "code",
   "execution_count": null,
   "metadata": {},
   "outputs": [],
   "source": [
    "'''\n",
    "A string with parentheses is well bracketed if all parentheses are matched: every\n",
    "opening bracket has a matching closing bracket and vice versa. Write a Python function\n",
    "wellbracketed(s) that takes a string s containing parentheses and returns True if s is well\n",
    "bracketed and False otherwise. Here are some examples to show how your function\n",
    "should work.\n",
    ">>> wellbracketed(\"22)\") should return False\n",
    ">>> wellbracketed(\"(a+b)(a-b)\") should return True\n",
    ">>> wellbracketed(\"(a(b+c)-d)((e+f)\") should return False\n",
    "'''"
   ]
  },
  {
   "cell_type": "code",
   "execution_count": 2,
   "metadata": {},
   "outputs": [
    {
     "name": "stdout",
     "output_type": "stream",
     "text": [
      "enter eq: (a+b)(a-b)\n",
      "True\n"
     ]
    }
   ],
   "source": [
    "def eq(s):\n",
    "    depth= 0\n",
    "    for i in s:\n",
    "        if i=='(':\n",
    "            depth+=1\n",
    "        elif i==')':\n",
    "            depth-=1\n",
    "            \n",
    "    if depth==0:\n",
    "        return True\n",
    "            \n",
    "    else:\n",
    "        return False\n",
    "        \n",
    "string = input(\"enter eq: \")\n",
    "x= eq(string)\n",
    "print (x)"
   ]
  },
  {
   "cell_type": "code",
   "execution_count": 5,
   "metadata": {
    "scrolled": true
   },
   "outputs": [
    {
     "name": "stdout",
     "output_type": "stream",
     "text": [
      "10\n",
      "0\n",
      "division is not possible\n",
      "5\n",
      "division is:  2.0\n",
      "program over\n"
     ]
    }
   ],
   "source": [
    "a= int(input())\n",
    "while True:\n",
    "    b= int(input())\n",
    "    try:\n",
    "        x= a/b\n",
    "        break\n",
    "    except:\n",
    "        print('division is not possible')\n",
    "print('division is: ', x)\n",
    "print('program over')"
   ]
  },
  {
   "cell_type": "code",
   "execution_count": 20,
   "metadata": {},
   "outputs": [
    {
     "name": "stdout",
     "output_type": "stream",
     "text": [
      "enter text fileAsha is Asha Rahul\n",
      "Do you want to continuey\n",
      "enter text fileManju\n",
      "Do you want to continuen\n",
      "1 Asha is Asha Rahul\n",
      "\n",
      "2 Manju\n",
      "\n",
      "2\n"
     ]
    }
   ],
   "source": [
    "dummy= open('sample.txt', 'w')\n",
    "while True:\n",
    "    x= input('enter text file')\n",
    "    dummy.write(x+'\\n')\n",
    "    y = input('Do you want to continue')\n",
    "    if y== 'n':\n",
    "        break\n",
    "dummy.close()\n",
    "dr = open('sample.txt', 'r')\n",
    "count=0\n",
    "for i in dr:\n",
    "    count+=1\n",
    "    print(count,i)\n",
    "print(count)\n",
    "dr.close()"
   ]
  },
  {
   "cell_type": "code",
   "execution_count": 136,
   "metadata": {},
   "outputs": [
    {
     "name": "stdout",
     "output_type": "stream",
     "text": [
      "['A']\n",
      "['']\n"
     ]
    }
   ],
   "source": [
    "import re\n",
    "x= open('sample.txt', 'r')\n",
    "for i in x:\n",
    "   # i = i.rstrip()\n",
    "    x1= re.findall(r\"\\AA*\",i)\n",
    "    print(x1)"
   ]
  },
  {
   "cell_type": "code",
   "execution_count": 128,
   "metadata": {},
   "outputs": [
    {
     "name": "stdout",
     "output_type": "stream",
     "text": [
      "['hello']\n"
     ]
    }
   ],
   "source": [
    "import re\n",
    "\n",
    "str = \"hello world\"\n",
    "\n",
    "#Search for a sequence that starts with \"he\", followed by two (any) characters, and an \"o\":\n",
    "\n",
    "x = re.findall(\"he..o\", str)\n",
    "print(x)"
   ]
  },
  {
   "cell_type": "code",
   "execution_count": 35,
   "metadata": {},
   "outputs": [
    {
     "name": "stdout",
     "output_type": "stream",
     "text": [
      "['ai']\n",
      "Yes, there is at least one match!\n"
     ]
    }
   ],
   "source": [
    "str = \"ainhb \"\n",
    "\n",
    "#Check if the string contains \"ai\" followed by 1 or more \"x\" characters:\n",
    "\n",
    "x = re.findall(\"aix*\", str)\n",
    "\n",
    "print(x)\n",
    "\n",
    "if (x):\n",
    "  print(\"Yes, there is at least one match!\")\n",
    "else:\n",
    "  print(\"No match\")"
   ]
  },
  {
   "cell_type": "code",
   "execution_count": 37,
   "metadata": {},
   "outputs": [
    {
     "name": "stdout",
     "output_type": "stream",
     "text": [
      "['alll']\n",
      "Yes, there is at least one match!\n"
     ]
    }
   ],
   "source": [
    "import re\n",
    "\n",
    "str = \"The rain in Spain fallls mainly in the plain!\"\n",
    "\n",
    "#Check if the string contains \"a\" followed by exactly two \"l\" characters:\n",
    "\n",
    "x = re.findall(\"al{3}\", str)\n",
    "\n",
    "print(x)\n",
    "\n",
    "if (x):\n",
    "  print(\"Yes, there is at least one match!\")\n",
    "else:\n",
    "  print(\"No match\")\n"
   ]
  },
  {
   "cell_type": "code",
   "execution_count": 38,
   "metadata": {},
   "outputs": [
    {
     "name": "stdout",
     "output_type": "stream",
     "text": [
      "['Spain', 'falls']\n",
      "Yes, there is at least one match!\n"
     ]
    }
   ],
   "source": [
    "import re\n",
    "\n",
    "str = \"The rain in Spain falls mainly in the plain!\"\n",
    "\n",
    "#Check if the string contains either \"falls\" or \"stays\":\n",
    "\n",
    "x = re.findall(\"falls|Spain\", str)\n",
    "\n",
    "print(x)\n",
    "\n",
    "if (x):\n",
    "  print(\"Yes, there is at least one match!\")\n",
    "else:\n",
    "  print(\"No match\")\n"
   ]
  },
  {
   "cell_type": "code",
   "execution_count": 67,
   "metadata": {},
   "outputs": [
    {
     "name": "stdout",
     "output_type": "stream",
     "text": [
      "x ['56']\n",
      "x1 ['he', 'he', 'he']\n",
      "[' ', ' ', ' ', ' ', ' ', ' ', ' ', ' ', '$']\n",
      "Yes, there is a match!\n"
     ]
    }
   ],
   "source": [
    "import re\n",
    "\n",
    "str = \"Jhe rain Jhe in Spain Jhehkhk1 _ 56 $\"\n",
    "\n",
    "#Check if the string starts with \"The\":\n",
    "\n",
    "x = re.findall(r\"The\\b\", str)\n",
    "x1 = re.findall(r\"\\Bhe\", str)\n",
    "x2 = re.findall(\"\\W\", str)\n",
    "x = re.findall(\"[0-5][0-9]\", str)\n",
    "print('x',x)\n",
    "print('x1',x1)\n",
    "print(x2)\n",
    "if (x):\n",
    "  print(\"Yes, there is a match!\")\n",
    "else:\n",
    "  print(\"No match\")"
   ]
  },
  {
   "cell_type": "code",
   "execution_count": 81,
   "metadata": {},
   "outputs": [
    {
     "name": "stdout",
     "output_type": "stream",
     "text": [
      "(12, 17)\n"
     ]
    }
   ],
   "source": [
    "import re\n",
    "\n",
    "str = \"The rain in Spain\"\n",
    "x = re.search(r\"\\bS\\w+\", str)\n",
    "print(x.span())"
   ]
  },
  {
   "cell_type": "code",
   "execution_count": 3,
   "metadata": {},
   "outputs": [
    {
     "name": "stdout",
     "output_type": "stream",
     "text": [
      "+2323456789\n",
      "numb is []\n",
      "USN []\n"
     ]
    }
   ],
   "source": [
    "import re\n",
    "x = input()\n",
    "\n",
    "x1 = re.findall(r'[+][\\d]{2}[\\s][\\d]{5}[\\s][\\d]{5}',x)\n",
    "\n",
    "x3 = re.findall(r'[1-4]{1}[a-z]{2}[\\d]{2}[a-z]{2}[\\d]{3}',x)\n",
    "print('numb is',x1)\n",
    "\n",
    "print('USN',x3)"
   ]
  },
  {
   "cell_type": "code",
   "execution_count": 200,
   "metadata": {},
   "outputs": [
    {
     "name": "stdout",
     "output_type": "stream",
     "text": [
      "string is ['xhdiuhz']\n"
     ]
    }
   ],
   "source": [
    "x= 'xhdiuhz'\n",
    "form = '^[x].*[z]$'\n",
    "x2 = re.findall(form,x)\n",
    "print('string is',x2)"
   ]
  },
  {
   "cell_type": "code",
   "execution_count": null,
   "metadata": {},
   "outputs": [],
   "source": []
  }
 ],
 "metadata": {
  "kernelspec": {
   "display_name": "Python 3",
   "language": "python",
   "name": "python3"
  },
  "language_info": {
   "codemirror_mode": {
    "name": "ipython",
    "version": 3
   },
   "file_extension": ".py",
   "mimetype": "text/x-python",
   "name": "python",
   "nbconvert_exporter": "python",
   "pygments_lexer": "ipython3",
   "version": "3.7.3"
  }
 },
 "nbformat": 4,
 "nbformat_minor": 2
}
