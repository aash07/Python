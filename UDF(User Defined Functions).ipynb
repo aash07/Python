{
 "cells": [
  {
   "cell_type": "code",
   "execution_count": 3,
   "metadata": {},
   "outputs": [
    {
     "name": "stdout",
     "output_type": "stream",
     "text": [
      "Example of simple function\n",
      "Inside function\n",
      "Function over\n",
      "Example over\n"
     ]
    }
   ],
   "source": [
    "# Simple example of user-defined function\n",
    "def myfun():                   #function definition\n",
    "    print('Inside function')\n",
    "    print('Function over')\n",
    "\n",
    "print('Example of simple function')\n",
    "myfun()                        #function call\n",
    "print('Example over')"
   ]
  },
  {
   "cell_type": "code",
   "execution_count": 4,
   "metadata": {},
   "outputs": [
    {
     "data": {
      "text/plain": [
       "function"
      ]
     },
     "execution_count": 4,
     "metadata": {},
     "output_type": "execute_result"
    }
   ],
   "source": [
    "type(myfun)"
   ]
  },
  {
   "cell_type": "code",
   "execution_count": 5,
   "metadata": {},
   "outputs": [
    {
     "name": "stdout",
     "output_type": "stream",
     "text": [
      "<function myfun at 0x00000175DBE62E18>\n"
     ]
    }
   ],
   "source": [
    "print(myfun)"
   ]
  },
  {
   "cell_type": "markdown",
   "metadata": {},
   "source": [
    "# Function with arguments"
   ]
  },
  {
   "cell_type": "code",
   "execution_count": 7,
   "metadata": {},
   "outputs": [
    {
     "name": "stdout",
     "output_type": "stream",
     "text": [
      "Example of function with arguments\n",
      "Inside test()\n",
      "Argument is  hello\n",
      "Type of argument is:  <class 'str'>\n",
      "Inside test()\n",
      "Argument is  20\n",
      "Type of argument is:  <class 'int'>\n",
      "Over!!\n"
     ]
    }
   ],
   "source": [
    "def test(var):\n",
    "    print(\"Inside test()\")\n",
    "    print(\"Argument is \",var)\n",
    "    print(\"Type of argument is: \", type(var))\n",
    "\n",
    "print(\"Example of function with arguments\")\n",
    "x=\"hello\"\n",
    "test(x)        # call test() with x as argument\n",
    "y=20\n",
    "test(y)        # call test() with y as argument\n",
    "print(\"Over!!\")"
   ]
  },
  {
   "cell_type": "markdown",
   "metadata": {},
   "source": [
    "# Function with two arguments"
   ]
  },
  {
   "cell_type": "code",
   "execution_count": 8,
   "metadata": {},
   "outputs": [
    {
     "name": "stdout",
     "output_type": "stream",
     "text": [
      "Example of function with arguments\n",
      "ID of x is  140733335581808\n",
      "ID of y is  140733335582128\n",
      "Inside test()\n",
      "Argument1 is:  10  Type is  <class 'int'>\n",
      "Argument2 is:  20  Type is  <class 'int'>\n",
      "ID of a is  140733335581808\n",
      "ID of b is  140733335582128\n",
      "Inside test()\n",
      "Argument1 is:  5  Type is  <class 'int'>\n",
      "Argument2 is:  3.4  Type is  <class 'float'>\n",
      "ID of a is  140733335581648\n",
      "ID of b is  1605711713624\n",
      "Inside test()\n",
      "Argument1 is:  3.5  Type is  <class 'float'>\n",
      "Argument2 is:  hello  Type is  <class 'str'>\n",
      "ID of a is  1605715710432\n",
      "ID of b is  1605715886408\n",
      "Inside test()\n",
      "Argument1 is:  -3  Type is  <class 'int'>\n",
      "Argument2 is:  hi  Type is  <class 'str'>\n",
      "ID of a is  140733335581392\n",
      "ID of b is  1605674758192\n",
      "Inside test()\n",
      "Argument1 is:  0  Type is  <class 'int'>\n",
      "Argument2 is:  True  Type is  <class 'bool'>\n",
      "ID of a is  140733335581488\n",
      "ID of b is  140733335050576\n",
      "Inside test()\n",
      "Argument1 is:  False  Type is  <class 'bool'>\n",
      "Argument2 is:  world  Type is  <class 'str'>\n",
      "ID of a is  140733335050608\n",
      "ID of b is  1605715886520\n",
      "Over!!\n"
     ]
    }
   ],
   "source": [
    "def test(a, b):\n",
    "    print(\"Inside test()\")\n",
    "    print(\"Argument1 is: \", a, \" Type is \", type(a))\n",
    "    print(\"Argument2 is: \", b, \" Type is \", type(b))\n",
    "    print(\"ID of a is \", id(a))\n",
    "    print(\"ID of b is \", id(b))\n",
    "\n",
    "print(\"Example of function with arguments\")\n",
    "x=10\n",
    "y=20\n",
    "print(\"ID of x is \", id(x))\n",
    "print(\"ID of y is \", id(y))\n",
    "\n",
    "test(x,y)       \n",
    "test(5, 3.4)        \n",
    "test(3.5, 'hello')\n",
    "test(-3, 'hi')\n",
    "test(0,True)\n",
    "test(False, 'world')\n",
    "\n",
    "print(\"Over!!\")"
   ]
  },
  {
   "cell_type": "markdown",
   "metadata": {},
   "source": [
    "# Function with return values"
   ]
  },
  {
   "cell_type": "code",
   "execution_count": 11,
   "metadata": {},
   "outputs": [
    {
     "name": "stdout",
     "output_type": "stream",
     "text": [
      "Enter first number:10\n",
      "Enter second number:20\n",
      "Sum is  30\n"
     ]
    }
   ],
   "source": [
    "# finding sum of two numbers\n",
    "\n",
    "def sum_num(a,b):\n",
    "    return a+b\n",
    "\n",
    "x=int(input(\"Enter first number:\"))\n",
    "y=int(input(\"Enter second number:\"))\n",
    "z=sum_num(x,y)\n",
    "print(\"Sum is \", z )\n"
   ]
  },
  {
   "cell_type": "code",
   "execution_count": 13,
   "metadata": {},
   "outputs": [
    {
     "name": "stdout",
     "output_type": "stream",
     "text": [
      "Example of function with arguments\n",
      "Inside test()\n",
      "Argument is  hellohellohello\n",
      "Inside test()\n",
      "Argument is  60\n",
      "Over!!\n"
     ]
    }
   ],
   "source": [
    "# Multiplying\n",
    "\n",
    "def test(var):\n",
    "    print(\"Inside test()\")\n",
    "    print(\"Argument is \",var)\n",
    "\n",
    "print(\"Example of function with arguments\")\n",
    "x=\"hello\"\n",
    "test(x*3)\n",
    "y=20\n",
    "test(y*3)\n",
    "print(\"Over!!\")"
   ]
  },
  {
   "cell_type": "code",
   "execution_count": 2,
   "metadata": {},
   "outputs": [
    {
     "name": "stdout",
     "output_type": "stream",
     "text": [
      "hellohellohello\n",
      "60\n"
     ]
    }
   ],
   "source": [
    "def mul(arg):\n",
    "    print(arg*3)\n",
    "    \n",
    "x= 'hello'\n",
    "mul(x)\n",
    "y=20\n",
    "mul(y)"
   ]
  },
  {
   "cell_type": "markdown",
   "metadata": {},
   "source": [
    "# Looping structures"
   ]
  },
  {
   "cell_type": "code",
   "execution_count": 16,
   "metadata": {},
   "outputs": [
    {
     "name": "stdout",
     "output_type": "stream",
     "text": [
      "0 1 2 3 4 5 6 7 8 9 "
     ]
    }
   ],
   "source": [
    "# Example of for-loop\n",
    "\n",
    "for i in range(0,10):\n",
    "    print(i, end=' ')"
   ]
  },
  {
   "cell_type": "code",
   "execution_count": 17,
   "metadata": {},
   "outputs": [
    {
     "name": "stdout",
     "output_type": "stream",
     "text": [
      "5 6 7 8 9 "
     ]
    }
   ],
   "source": [
    "for i in range(5,10):\n",
    "    print(i, end=' ')"
   ]
  },
  {
   "cell_type": "code",
   "execution_count": 18,
   "metadata": {},
   "outputs": [
    {
     "name": "stdout",
     "output_type": "stream",
     "text": [
      "0 1 2 3 4 5 6 7 8 9 "
     ]
    }
   ],
   "source": [
    "for i in range(10):\n",
    "    print(i, end=' ')"
   ]
  },
  {
   "cell_type": "code",
   "execution_count": 22,
   "metadata": {},
   "outputs": [
    {
     "name": "stdout",
     "output_type": "stream",
     "text": [
      "10 8 6 4 2 "
     ]
    }
   ],
   "source": [
    "for i in range(10,0, -2):\n",
    "    print(i, end=' ')"
   ]
  },
  {
   "cell_type": "code",
   "execution_count": 25,
   "metadata": {},
   "outputs": [
    {
     "name": "stdout",
     "output_type": "stream",
     "text": [
      "0 1 2 3 4 5 6 7 8 9 "
     ]
    }
   ],
   "source": [
    "# Example of while-loop\n",
    "\n",
    "x=0\n",
    "while x<10:\n",
    "    print(x, end=' ')\n",
    "    x=x+1\n"
   ]
  },
  {
   "cell_type": "code",
   "execution_count": null,
   "metadata": {},
   "outputs": [],
   "source": []
  }
 ],
 "metadata": {
  "kernelspec": {
   "display_name": "Python 3",
   "language": "python",
   "name": "python3"
  },
  "language_info": {
   "codemirror_mode": {
    "name": "ipython",
    "version": 3
   },
   "file_extension": ".py",
   "mimetype": "text/x-python",
   "name": "python",
   "nbconvert_exporter": "python",
   "pygments_lexer": "ipython3",
   "version": "3.7.3"
  }
 },
 "nbformat": 4,
 "nbformat_minor": 2
}
