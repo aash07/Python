{
 "cells": [
  {
   "cell_type": "code",
   "execution_count": 2,
   "metadata": {},
   "outputs": [
    {
     "name": "stdout",
     "output_type": "stream",
     "text": [
      "<class 'dict'>\n"
     ]
    }
   ],
   "source": [
    "#create empty dictionary\n",
    "d={}\n",
    "print(type(d))"
   ]
  },
  {
   "cell_type": "code",
   "execution_count": 3,
   "metadata": {},
   "outputs": [
    {
     "name": "stdout",
     "output_type": "stream",
     "text": [
      "{'Mango': 'Fruit', 'Banana': 'Fruit', 'Cucumber': 'Veg'}\n"
     ]
    }
   ],
   "source": [
    "# create empty dictionary and then add items to it\n",
    "d={}\n",
    "d[\"Mango\"]=\"Fruit\"\n",
    "d[\"Banana\"]=\"Fruit\"\n",
    "d[\"Cucumber\"]=\"Veg\"\n",
    "print(d)"
   ]
  },
  {
   "cell_type": "code",
   "execution_count": 6,
   "metadata": {},
   "outputs": [
    {
     "name": "stdout",
     "output_type": "stream",
     "text": [
      "{'Fruit': 'Mango', 'Veg': 'Cucumber'}\n"
     ]
    }
   ],
   "source": [
    "# key should be unique in dictionary. Otherwise, it will overwrite\n",
    "d={}\n",
    "d[\"Fruit\"]=\"Banana\"\n",
    "d[\"Fruit\"]=\"Mango\"\n",
    "d[\"Veg\"]=\"Cucumber\"\n",
    "print(d)"
   ]
  },
  {
   "cell_type": "code",
   "execution_count": 8,
   "metadata": {},
   "outputs": [
    {
     "name": "stdout",
     "output_type": "stream",
     "text": [
      "{'Tom': 3491, 'Jerry': 8135}\n",
      "{'Tom': 3491, 'Jerry': 8135, 'Donald': 4793}\n",
      "Telephone number of Tom is:  3491\n"
     ]
    }
   ],
   "source": [
    "# Create dictionary with some values and then update it with extra values\n",
    "# dictinary is mutable\n",
    "\n",
    "tel_dir={'Tom': 3491, 'Jerry':8135}\n",
    "print(tel_dir)\n",
    "\n",
    "tel_dir['Donald']=4793\n",
    "print(tel_dir)\n",
    "\n",
    "print('Telephone number of Tom is: ', tel_dir['Tom'])\n"
   ]
  },
  {
   "cell_type": "code",
   "execution_count": 9,
   "metadata": {},
   "outputs": [
    {
     "name": "stdout",
     "output_type": "stream",
     "text": [
      "{'Tom': 3491, 'Jerry': 8135, 'Donald': 4793}\n",
      "False\n"
     ]
    }
   ],
   "source": [
    "# checking whether a key is there in dictionary\n",
    "\n",
    "tel_dir={'Tom': 3491, 'Jerry':8135, 'Donald':4793}\n",
    "print(tel_dir)\n",
    "\n",
    "x= 'Micky' in tel_dir\n",
    "print(x)"
   ]
  },
  {
   "cell_type": "code",
   "execution_count": 10,
   "metadata": {},
   "outputs": [
    {
     "name": "stdout",
     "output_type": "stream",
     "text": [
      "dict_values([3491, 8135, 4793])\n"
     ]
    }
   ],
   "source": [
    "# using values() function\n",
    "\n",
    "tel_dir={'Tom': 3491, 'Jerry':8135, 'Donald':4793}\n",
    "ls=tel_dir.values()\n",
    "print(ls)"
   ]
  },
  {
   "cell_type": "code",
   "execution_count": 19,
   "metadata": {},
   "outputs": [
    {
     "name": "stdout",
     "output_type": "stream",
     "text": [
      "25\n",
      "0\n"
     ]
    }
   ],
   "source": [
    "# Using get() function\n",
    "\n",
    "students={'Tom': 24, 'Jerry':25, 'Donald':21}\n",
    "print(students.get('Jerry',0))   #as 'Jerry' is there in dictionary, respective value is returned\n",
    "print(students.get('Mickey', 0))  # returns default value 0, as 'Donald' is not there\n"
   ]
  },
  {
   "cell_type": "code",
   "execution_count": 15,
   "metadata": {},
   "outputs": [
    {
     "name": "stdout",
     "output_type": "stream",
     "text": [
      "Enter a string:hh\n",
      "h\n",
      "0 {}\n",
      "h\n",
      "1 {'h': 1}\n",
      "{'h': 2}\n",
      "Final dictionary: ['h']\n"
     ]
    }
   ],
   "source": [
    "'''Write a program to read a string. Count number of occurrences of each \n",
    "character in the string. Use dictionary.\n",
    "Example: input string is 'hello' \n",
    "Then, output must be {'h':1, 'e':1, 'l':2, 'o':1}\n",
    "'''\n",
    "\n",
    "d={}\n",
    "s= input('Enter a string:')\n",
    "\n",
    "for ch in s:\n",
    "    print(ch)\n",
    "    print(d.get(ch,0),d)\n",
    "    d[ch]=d.get(ch,0)+1\n",
    "    \n",
    "print(d)\n",
    "    \n",
    "print('Final dictionary:',sorted(d))"
   ]
  },
  {
   "cell_type": "code",
   "execution_count": 29,
   "metadata": {},
   "outputs": [
    {
     "name": "stdout",
     "output_type": "stream",
     "text": [
      "The list of keys: ['Tom', 'Jerry', 'Mickey']\n",
      "Dictionary elements in alphabetical order:\n",
      "Jerry 8135\n",
      "Mickey 1253\n",
      "Tom 3491\n"
     ]
    }
   ],
   "source": [
    "# Using keys() function on dictionary\n",
    "# Write a program to sort a dictionary keys in alphabetical order\n",
    "\n",
    "tel_dir={'Tom': 3491, 'Jerry':8135, 'Mickey':1253}\n",
    "ls=list(tel_dir.keys())\n",
    "print(\"The list of keys:\",ls)\n",
    "\n",
    "ls.sort()\n",
    "\n",
    "print(\"Dictionary elements in alphabetical order:\")\n",
    "for k in ls:\n",
    "    print(k, tel_dir[k])\n"
   ]
  },
  {
   "cell_type": "code",
   "execution_count": 31,
   "metadata": {},
   "outputs": [
    {
     "name": "stdout",
     "output_type": "stream",
     "text": [
      "Tom 3491\n",
      "Jerry 8135\n",
      "Mickey 1253\n"
     ]
    }
   ],
   "source": [
    "# Using items() on dictionaries\n",
    "\n",
    "tel_dir={'Tom': 3491, 'Jerry':8135, 'Mickey':1253}\n",
    "\n",
    "for k,v in tel_dir.items():\n",
    "    print(k,v)"
   ]
  },
  {
   "cell_type": "markdown",
   "metadata": {},
   "source": [
    "# Text Parsing\n"
   ]
  },
  {
   "cell_type": "code",
   "execution_count": 32,
   "metadata": {},
   "outputs": [
    {
     "data": {
      "text/plain": [
       "'!\"#$%&\\'()*+,-./:;<=>?@[\\\\]^_`{|}~'"
      ]
     },
     "execution_count": 32,
     "metadata": {},
     "output_type": "execute_result"
    }
   ],
   "source": [
    "import string\n",
    "string.punctuation"
   ]
  },
  {
   "cell_type": "code",
   "execution_count": 33,
   "metadata": {},
   "outputs": [
    {
     "name": "stdout",
     "output_type": "stream",
     "text": [
      "Enter file name:myfile.txt\n",
      "{'hello': 2, 'how': 3, 'are': 1, 'you': 2, 'i': 1, 'am': 1, 'doing': 1, 'fine': 1, 'about': 1, 'world': 1, 'karnataka': 2, 'is': 2, 'a': 1, 'state': 1, 'in': 1, 'india': 1, 'bangalroe': 1, 'capital': 1, 'of': 1}\n"
     ]
    }
   ],
   "source": [
    "# Write a program to find word-count from file\n",
    "\n",
    "import string\n",
    "fname=input(\"Enter file name:\")\n",
    "try:\n",
    "    fhand=open(fname)\n",
    "except:\n",
    "    print(\"File cannot be opened\")\n",
    "    exit()\n",
    "\n",
    "d=dict()\n",
    "for line in fhand:\n",
    "    line=line.rstrip()\n",
    "    line=line.translate(line.maketrans('','',string.punctuation))\n",
    "    line=line.lower()\n",
    "    for word in line.split():\n",
    "        d[word]=d.get(word,0)+1\n",
    "\n",
    "print(d)\n"
   ]
  },
  {
   "cell_type": "code",
   "execution_count": 3,
   "metadata": {},
   "outputs": [
    {
     "name": "stdout",
     "output_type": "stream",
     "text": [
      "Is d1==d2? False\n"
     ]
    },
    {
     "ename": "TypeError",
     "evalue": "'>' not supported between instances of 'dict' and 'dict'",
     "output_type": "error",
     "traceback": [
      "\u001b[1;31m---------------------------------------------------------------------------\u001b[0m",
      "\u001b[1;31mTypeError\u001b[0m                                 Traceback (most recent call last)",
      "\u001b[1;32m<ipython-input-3-524e2c413787>\u001b[0m in \u001b[0;36m<module>\u001b[1;34m\u001b[0m\n\u001b[0;32m      2\u001b[0m \u001b[0md2\u001b[0m \u001b[1;33m=\u001b[0m \u001b[1;33m{\u001b[0m\u001b[1;34m\"john\"\u001b[0m\u001b[1;33m:\u001b[0m\u001b[1;36m466\u001b[0m\u001b[1;33m,\u001b[0m \u001b[1;34m\"peter\"\u001b[0m\u001b[1;33m:\u001b[0m\u001b[1;36m45\u001b[0m\u001b[1;33m}\u001b[0m\u001b[1;33m\u001b[0m\u001b[1;33m\u001b[0m\u001b[0m\n\u001b[0;32m      3\u001b[0m \u001b[0mprint\u001b[0m\u001b[1;33m(\u001b[0m\u001b[1;34m\"Is d1==d2?\"\u001b[0m\u001b[1;33m,\u001b[0m \u001b[0md1\u001b[0m \u001b[1;33m==\u001b[0m \u001b[0md2\u001b[0m\u001b[1;33m)\u001b[0m\u001b[1;33m\u001b[0m\u001b[1;33m\u001b[0m\u001b[0m\n\u001b[1;32m----> 4\u001b[1;33m \u001b[0mprint\u001b[0m\u001b[1;33m(\u001b[0m\u001b[1;34m\"Is d1> d2?\"\u001b[0m\u001b[1;33m,\u001b[0m \u001b[0md1\u001b[0m\u001b[1;33m>\u001b[0m\u001b[0md2\u001b[0m\u001b[1;33m)\u001b[0m\u001b[1;33m\u001b[0m\u001b[1;33m\u001b[0m\u001b[0m\n\u001b[0m",
      "\u001b[1;31mTypeError\u001b[0m: '>' not supported between instances of 'dict' and 'dict'"
     ]
    }
   ],
   "source": [
    "d1 = {\"john\":40, \"peter\":45}\n",
    "d2 = {\"john\":466, \"peter\":45}\n",
    "print(\"Is d1==d2?\", d1 == d2)\n",
    "print(\"Is d1> d2?\", d1>d2)\n"
   ]
  },
  {
   "cell_type": "code",
   "execution_count": null,
   "metadata": {},
   "outputs": [],
   "source": []
  }
 ],
 "metadata": {
  "kernelspec": {
   "display_name": "Python 3",
   "language": "python",
   "name": "python3"
  },
  "language_info": {
   "codemirror_mode": {
    "name": "ipython",
    "version": 3
   },
   "file_extension": ".py",
   "mimetype": "text/x-python",
   "name": "python",
   "nbconvert_exporter": "python",
   "pygments_lexer": "ipython3",
   "version": "3.7.3"
  }
 },
 "nbformat": 4,
 "nbformat_minor": 2
}
