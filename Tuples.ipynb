{
 "cells": [
  {
   "cell_type": "markdown",
   "metadata": {},
   "source": [
    "# Demonstration of simple tuples\n"
   ]
  },
  {
   "cell_type": "code",
   "execution_count": null,
   "metadata": {},
   "outputs": [],
   "source": [
    "t=()\n",
    "print(type(t))"
   ]
  },
  {
   "cell_type": "code",
   "execution_count": null,
   "metadata": {},
   "outputs": [],
   "source": [
    "t1=tuple()\n",
    "print(type(t1))"
   ]
  },
  {
   "cell_type": "code",
   "execution_count": null,
   "metadata": {},
   "outputs": [],
   "source": [
    "t=(12,35, -3)\n",
    "print(t)"
   ]
  },
  {
   "cell_type": "code",
   "execution_count": null,
   "metadata": {},
   "outputs": [],
   "source": [
    "t=(23,'hello', 3.4, 12)\n",
    "print(t)"
   ]
  },
  {
   "cell_type": "code",
   "execution_count": null,
   "metadata": {},
   "outputs": [],
   "source": [
    "# create tuple with single element\n",
    "t=(3)\n",
    "print(type(t))    #will be treated as integer"
   ]
  },
  {
   "cell_type": "code",
   "execution_count": null,
   "metadata": {},
   "outputs": [],
   "source": [
    "t =(3,)   # tuple with single element\n",
    "print(type(t))\n",
    "print(t)"
   ]
  },
  {
   "cell_type": "code",
   "execution_count": null,
   "metadata": {},
   "outputs": [],
   "source": [
    "# paranthesis is not mandatory\n",
    "t=1,2,3\n",
    "print(type(t))\n",
    "print(t)"
   ]
  },
  {
   "cell_type": "code",
   "execution_count": null,
   "metadata": {},
   "outputs": [],
   "source": [
    "# creating tuple using string\n",
    "s='Hello'\n",
    "t=tuple(s)\n",
    "print(t)"
   ]
  },
  {
   "cell_type": "code",
   "execution_count": null,
   "metadata": {},
   "outputs": [],
   "source": [
    "# creating a tuple using a list\n",
    "ls=[12, -3, 'hi', [5,6], 35]\n",
    "t=tuple(ls)\n",
    "print(t)"
   ]
  },
  {
   "cell_type": "code",
   "execution_count": null,
   "metadata": {},
   "outputs": [],
   "source": [
    "# creating a tuple from another tuple\n",
    "t1= 23, 78, 32\n",
    "print('t1 is', t1)\n",
    "print('ID is: ', id(t1))\n",
    "t2=tuple(t1)\n",
    "print('t2 is', t2)\n",
    "print('ID is: ', id(t2))    #creates just a reference to existing object"
   ]
  },
  {
   "cell_type": "code",
   "execution_count": null,
   "metadata": {},
   "outputs": [],
   "source": [
    "# Indexing and slicing on tuples\n",
    "\n",
    "t= 'Mango', 'Banana', 'Apple'\n",
    "print(t[1])"
   ]
  },
  {
   "cell_type": "code",
   "execution_count": null,
   "metadata": {},
   "outputs": [],
   "source": [
    "print(t[1:])"
   ]
  },
  {
   "cell_type": "code",
   "execution_count": null,
   "metadata": {},
   "outputs": [],
   "source": [
    "print(t[-1])"
   ]
  },
  {
   "cell_type": "code",
   "execution_count": null,
   "metadata": {},
   "outputs": [],
   "source": [
    "# As tuples are immutable, one cannot alter its contents\n",
    "# Instead, we can slice and create new tuple\n",
    "\n",
    "t= ('Mango', 'Banana', 'Apple')\n",
    "# t[0]= 'Papaya'       Error!!\n",
    "print(t)\n",
    "\n",
    "t = ('Papaya',) + t[1:]\n",
    "print(t)\n"
   ]
  },
  {
   "cell_type": "markdown",
   "metadata": {},
   "source": [
    "# Assignment of tuples"
   ]
  },
  {
   "cell_type": "code",
   "execution_count": null,
   "metadata": {},
   "outputs": [],
   "source": [
    "x,y=10,20\n",
    "print(x)\n",
    "print(y)"
   ]
  },
  {
   "cell_type": "code",
   "execution_count": null,
   "metadata": {},
   "outputs": [],
   "source": [
    "# Assigning list to tuple\n",
    "ls=[3,4]\n",
    "x,y=ls\n",
    "print(x)\n",
    "print(y)"
   ]
  },
  {
   "cell_type": "code",
   "execution_count": null,
   "metadata": {},
   "outputs": [],
   "source": [
    "# Swapping of two numbers\n",
    "a=10\n",
    "b=20\n",
    "a,b=b,a\n",
    "print(a, b)"
   ]
  },
  {
   "cell_type": "code",
   "execution_count": null,
   "metadata": {},
   "outputs": [],
   "source": [
    "# excess value assignment\n",
    "x,y= 10,20,30"
   ]
  },
  {
   "cell_type": "code",
   "execution_count": null,
   "metadata": {},
   "outputs": [],
   "source": [
    "# less number of values\n",
    "x,y,z=10,20"
   ]
  },
  {
   "cell_type": "code",
   "execution_count": null,
   "metadata": {},
   "outputs": [],
   "source": [
    "# Extracting User Name and domain name from email ID\n",
    "\n",
    "email='chetanahegde@ieee.org'\n",
    "userName, domainName=email.split('@')\n",
    "print('User name is: ', userName)\n",
    "print('Domain name is :', domainName)"
   ]
  },
  {
   "cell_type": "code",
   "execution_count": null,
   "metadata": {},
   "outputs": [],
   "source": [
    "# Using dictionaries and tuples\n",
    "\n",
    "d={'a':1, 'b':25, 'c':12}\n",
    "ls=list(d.items())\n",
    "print(ls)"
   ]
  },
  {
   "cell_type": "code",
   "execution_count": null,
   "metadata": {},
   "outputs": [],
   "source": [
    "d={'Tom':3156, 'Jerry':7812, 'Donald':2102, 'Mickey':9012}\n",
    "ls=list(d.items())\n",
    "print('Original list:\\n',ls)\n",
    "ls.sort()\n",
    "print('Sorted list:\\n', ls)"
   ]
  },
  {
   "cell_type": "code",
   "execution_count": null,
   "metadata": {},
   "outputs": [],
   "source": [
    "# Write a program to sort words of a given sentence from longest to smallest\n",
    "\n",
    "txt = 'Ram and Seeta went to forest with Lakshman'\n",
    "words = txt.split()\n",
    "t = list()\n",
    "for word in words:\n",
    "    t.append((len(word), word))\n",
    "\n",
    "print('The list is:\\n',t)    \n",
    "t.sort(reverse=True)\n",
    "res = list()\n",
    "\n",
    "for length, word in t:\n",
    "    res.append(word)\n",
    "print('The sorted list:\\n',res) \n"
   ]
  },
  {
   "cell_type": "code",
   "execution_count": 6,
   "metadata": {},
   "outputs": [
    {
     "name": "stdout",
     "output_type": "stream",
     "text": [
      "Help on method_descriptor:\n",
      "\n",
      "sort(self, /, *, key=None, reverse=False)\n",
      "    Stable sort *IN PLACE*.\n",
      "\n"
     ]
    }
   ],
   "source": [
    "help(list.sort)"
   ]
  },
  {
   "cell_type": "code",
   "execution_count": 5,
   "metadata": {},
   "outputs": [
    {
     "name": "stdout",
     "output_type": "stream",
     "text": [
      "Enter a string:ram and seeta went to forest with lakshman\n",
      "Original list: ['ram', 'and', 'seeta', 'went', 'to', 'forest', 'with', 'lakshman']\n",
      "Result: ['lakshman', 'forest', 'seeta', 'went', 'with', 'ram', 'and', 'to']\n"
     ]
    }
   ],
   "source": [
    "s=input('Enter a string:')\n",
    "ls=s.split(' ')\n",
    "print('Original list:',ls)\n",
    "ls.sort(key=len, reverse=True)\n",
    "print(\"Result:\", ls)"
   ]
  },
  {
   "cell_type": "code",
   "execution_count": null,
   "metadata": {},
   "outputs": [],
   "source": []
  }
 ],
 "metadata": {
  "kernelspec": {
   "display_name": "Python 3",
   "language": "python",
   "name": "python3"
  },
  "language_info": {
   "codemirror_mode": {
    "name": "ipython",
    "version": 3
   },
   "file_extension": ".py",
   "mimetype": "text/x-python",
   "name": "python",
   "nbconvert_exporter": "python",
   "pygments_lexer": "ipython3",
   "version": "3.7.1"
  }
 },
 "nbformat": 4,
 "nbformat_minor": 2
}
