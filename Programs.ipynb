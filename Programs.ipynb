{
 "cells": [
  {
   "cell_type": "code",
   "execution_count": 1,
   "metadata": {},
   "outputs": [
    {
     "name": "stdout",
     "output_type": "stream",
     "text": [
      "Enter a number5\n",
      "Given number is:  5\n",
      "sum is:  5\n",
      "original number is: 5\n"
     ]
    },
    {
     "data": {
      "text/plain": [
       "'\\nd= num%10  #2\\nsum=sum+d   #5+2\\nnum =num//10   #1\\n\\nd = num%10   #1\\nsum= sum+d   # 7+1\\nnum= num//10  #0\\n\\n'"
      ]
     },
     "execution_count": 1,
     "metadata": {},
     "output_type": "execute_result"
    }
   ],
   "source": [
    "#program to find sum of the digits of a number\n",
    "\n",
    "n=int(input('Enter a number'))   #125\n",
    "print('Given number is: ', n)\n",
    "s=0\n",
    "num=n\n",
    "\n",
    "while num>0:\n",
    "    d=num%10    #5\n",
    "    s=s+d   #0+5\n",
    "    num= num//10   #12\n",
    "\n",
    "print('sum is: ', s)\n",
    "print('original number is:', n)\n",
    "\n",
    "\n",
    "'''\n",
    "d= num%10  #2\n",
    "sum=sum+d   #5+2\n",
    "num =num//10   #1\n",
    "\n",
    "d = num%10   #1\n",
    "sum= sum+d   # 7+1\n",
    "num= num//10  #0\n",
    "\n",
    "'''\n",
    "\n",
    "\n",
    "\n"
   ]
  },
  {
   "cell_type": "code",
   "execution_count": 1,
   "metadata": {},
   "outputs": [
    {
     "name": "stdout",
     "output_type": "stream",
     "text": [
      "Enter a number565\n",
      "Reverse number is: 565\n",
      "Palindrome\n"
     ]
    }
   ],
   "source": [
    "#Program to check whether a given number is palindrome or not\n",
    "\n",
    "num=int(input('Enter a number'))\n",
    "n=num\n",
    "rev=0\n",
    "while n>0:\n",
    "    d=n%10\n",
    "    rev=rev*10+d\n",
    "    n=n//10\n",
    "\n",
    "print('Reverse number is:',rev)\n",
    "if num==rev:\n",
    "    print('Palindrome')\n",
    "else:\n",
    "    print('not a palindrome')\n",
    "    "
   ]
  },
  {
   "cell_type": "code",
   "execution_count": 8,
   "metadata": {},
   "outputs": [
    {
     "name": "stdout",
     "output_type": "stream",
     "text": [
      "Enter n:5\n",
      "Enter a number:1\n",
      "Enter a number:2\n",
      "Enter a number:3\n",
      "Enter a number:4\n",
      "Enter a number:5\n",
      "[1, 2, 3, 4, 5]\n",
      "Average= 3.0\n",
      "[1, 4, 9, 16, 25]\n",
      "Standard deviation = 1.4142135623730951\n"
     ]
    }
   ],
   "source": [
    "#Find sum and average of n numbers\n",
    "import math\n",
    "n=int(input('Enter n:'))\n",
    "ls=[]\n",
    "\n",
    "for i in range(n):\n",
    "    x=int(input('Enter a number:'))\n",
    "    ls.append(x)\n",
    "    \n",
    "print(ls)\n",
    "avg=sum(ls)/n\n",
    "print('Average=',avg)\n",
    "\n",
    "sq_ls=[i**2 for i in ls]\n",
    "print(sq_ls)\n",
    "\n",
    "sd=math.sqrt(sum(sq_ls)/n - avg**2)\n",
    "print('Standard deviation =', sd)\n"
   ]
  },
  {
   "cell_type": "code",
   "execution_count": 12,
   "metadata": {},
   "outputs": [
    {
     "name": "stdout",
     "output_type": "stream",
     "text": [
      "Enter key: 56\n",
      "Key is not found\n"
     ]
    }
   ],
   "source": [
    "# Search for key element in the list\n",
    "\n",
    "ls=[12,34,-2,45,23, 69,51]\n",
    "flag=0\n",
    "\n",
    "k=int(input('Enter key: '))\n",
    "\n",
    "for i in range(len(ls)):\n",
    "    if k==ls[i]:\n",
    "        flag=1\n",
    "        break\n",
    "\n",
    "if flag==1:\n",
    "    print('Key is found at position: ', i)\n",
    "else:\n",
    "    print('Key is not found')"
   ]
  },
  {
   "cell_type": "code",
   "execution_count": 14,
   "metadata": {},
   "outputs": [
    {
     "name": "stdout",
     "output_type": "stream",
     "text": [
      "Enter n:5\n",
      "Enter a number56\n",
      "Enter a number-8\n",
      "Enter a number34\n",
      "Enter a number-6\n",
      "Enter a number-9\n",
      "Enter a number0\n",
      "Enter a number23\n",
      "Enter a number76\n",
      "Enter a number90\n",
      "[56, 34, 23, 76, 90]\n"
     ]
    }
   ],
   "source": [
    "# Reading only positive numbers\n",
    "\n",
    "n=int(input('Enter n:'))\n",
    "ls=[]\n",
    "\n",
    "while n>0:\n",
    "    x=int(input('Enter a number'))\n",
    "    if x>0:\n",
    "        ls.append(x)\n",
    "        n=n-1\n",
    "        \n",
    "print(ls)"
   ]
  },
  {
   "cell_type": "markdown",
   "metadata": {},
   "source": [
    "a^2"
   ]
  },
  {
   "cell_type": "markdown",
   "metadata": {},
   "source": []
  }
 ],
 "metadata": {
  "kernelspec": {
   "display_name": "Python 3",
   "language": "python",
   "name": "python3"
  },
  "language_info": {
   "codemirror_mode": {
    "name": "ipython",
    "version": 3
   },
   "file_extension": ".py",
   "mimetype": "text/x-python",
   "name": "python",
   "nbconvert_exporter": "python",
   "pygments_lexer": "ipython3",
   "version": "3.7.3"
  }
 },
 "nbformat": 4,
 "nbformat_minor": 2
}
