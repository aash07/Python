{
 "cells": [
  {
   "cell_type": "code",
   "execution_count": 6,
   "metadata": {},
   "outputs": [
    {
     "name": "stdout",
     "output_type": "stream",
     "text": [
      "Enter a string:(((((()\n",
      "5\n",
      "None\n"
     ]
    }
   ],
   "source": [
    "'''\n",
    "A string with parentheses is well bracketed if all parentheses are matched: every\n",
    "opening bracket has a matching closing bracket and vice versa. Write a Python function\n",
    "wellbracketed(s) that takes a string s containing parentheses and returns True if s is well\n",
    "bracketed and False otherwise. Here are some examples to show how your function\n",
    "should work.\n",
    ">>> wellbracketed(\"22)\") should return False\n",
    ">>> wellbracketed(\"(a+b)(a-b)\") should return True\n",
    ">>> wellbracketed(\"(a(b+c)-d)((e+f)\") should return False\n",
    "'''\n",
    "\n",
    "def wellbracketed(s):\n",
    "    depth=0\n",
    "    for i in s:\n",
    "        if i=='(':\n",
    "            depth+=1\n",
    "        elif i==')':\n",
    "            depth-=1\n",
    "        \n",
    "        if depth<0:\n",
    "            return False\n",
    "    print(depth)\n",
    "    if depth==0:\n",
    "        return True\n",
    "    else:\n",
    "        return False\n",
    "\n",
    "string=input(\"Enter a string:\")\n",
    "x=wellbracketed(string)\n",
    "\n",
    "print(x)"
   ]
  },
  {
   "cell_type": "code",
   "execution_count": null,
   "metadata": {},
   "outputs": [],
   "source": []
  },
  {
   "cell_type": "code",
   "execution_count": null,
   "metadata": {},
   "outputs": [],
   "source": []
  }
 ],
 "metadata": {
  "kernelspec": {
   "display_name": "Python 3",
   "language": "python",
   "name": "python3"
  },
  "language_info": {
   "codemirror_mode": {
    "name": "ipython",
    "version": 3
   },
   "file_extension": ".py",
   "mimetype": "text/x-python",
   "name": "python",
   "nbconvert_exporter": "python",
   "pygments_lexer": "ipython3",
   "version": "3.7.3"
  }
 },
 "nbformat": 4,
 "nbformat_minor": 2
}
